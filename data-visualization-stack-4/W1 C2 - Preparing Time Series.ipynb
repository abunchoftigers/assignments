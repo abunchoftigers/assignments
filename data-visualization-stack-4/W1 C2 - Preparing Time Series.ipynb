{
 "cells": [
  {
   "cell_type": "code",
   "execution_count": 129,
   "id": "a1ac5403-7e3a-46e0-9a8d-b0766c32f8f6",
   "metadata": {},
   "outputs": [],
   "source": [
    "# import numpy as np\n",
    "# import pandas as pd\n",
    "import matplotlib.pyplot as plt\n",
    "import matplotlib.ticker as mticks\n",
    "import matplotlib.dates as mdates"
   ]
  },
  {
   "cell_type": "code",
   "execution_count": 130,
   "id": "8c1ef6b8-85ff-4fca-bb67-b655d0d96588",
   "metadata": {},
   "outputs": [],
   "source": [
    "def thousands(x,pos):\n",
    "    \"\"\"function for use wth matplotlib FuncFormatter -  formats money in millions\"\"\"\n",
    "    new_x = x/1_000\n",
    "    return f\"${new_x:,.0f}K\""
   ]
  },
  {
   "cell_type": "code",
   "execution_count": 131,
   "id": "a3805fd9-f370-4e0d-8aaf-a5d6f412397f",
   "metadata": {},
   "outputs": [],
   "source": [
    "# url = 'https://docs.google.com/spreadsheets/d/e/2PACX-1vQN3Ksa9szQuO4G1-msXWAp17KtVHQCBnuEieu_auu1wSiBf3-krHusIx5VBMkihxj-KZLBosDIGEyR/pub?output=csv'\n",
    "\n",
    "# original_df = pd.read_csv(url)"
   ]
  },
  {
   "cell_type": "code",
   "execution_count": 132,
   "id": "78308b54-913d-420c-8411-aaa8760394a2",
   "metadata": {},
   "outputs": [],
   "source": [
    "df = original_df;"
   ]
  },
  {
   "cell_type": "code",
   "execution_count": 133,
   "id": "e17c41f0-4914-46eb-b7d7-6d7c4828be63",
   "metadata": {},
   "outputs": [
    {
     "data": {
      "text/plain": [
       "(22467, 281)"
      ]
     },
     "execution_count": 133,
     "metadata": {},
     "output_type": "execute_result"
    }
   ],
   "source": [
    "df.shape"
   ]
  },
  {
   "cell_type": "code",
   "execution_count": 134,
   "id": "157a7891-5d45-4238-99e3-4c138d09afd7",
   "metadata": {},
   "outputs": [
    {
     "name": "stdout",
     "output_type": "stream",
     "text": [
      "<class 'pandas.core.frame.DataFrame'>\n",
      "RangeIndex: 22467 entries, 0 to 22466\n",
      "Columns: 281 entries, RegionID to 2022-09-30\n",
      "dtypes: float64(273), int64(2), object(6)\n",
      "memory usage: 48.2+ MB\n"
     ]
    }
   ],
   "source": [
    "df.info()"
   ]
  },
  {
   "cell_type": "code",
   "execution_count": 135,
   "id": "8639ff12-aec7-46d4-94c5-b4ff74e82928",
   "metadata": {},
   "outputs": [],
   "source": [
    "df = df.loc[df['SizeRank'] < 4]\n",
    "\n",
    "\n",
    "# how do we know the indexes are the same as the SizeRank? does it come from the API?  edit: do we know this?"
   ]
  },
  {
   "cell_type": "code",
   "execution_count": 136,
   "id": "363b140a-5dba-4fb6-8528-3576835071f5",
   "metadata": {},
   "outputs": [
    {
     "data": {
      "text/html": [
       "<div>\n",
       "<style scoped>\n",
       "    .dataframe tbody tr th:only-of-type {\n",
       "        vertical-align: middle;\n",
       "    }\n",
       "\n",
       "    .dataframe tbody tr th {\n",
       "        vertical-align: top;\n",
       "    }\n",
       "\n",
       "    .dataframe thead th {\n",
       "        text-align: right;\n",
       "    }\n",
       "</style>\n",
       "<table border=\"1\" class=\"dataframe\">\n",
       "  <thead>\n",
       "    <tr style=\"text-align: right;\">\n",
       "      <th></th>\n",
       "      <th>RegionID</th>\n",
       "      <th>SizeRank</th>\n",
       "      <th>RegionName</th>\n",
       "      <th>RegionType</th>\n",
       "      <th>StateName</th>\n",
       "      <th>State</th>\n",
       "      <th>Metro</th>\n",
       "      <th>CountyName</th>\n",
       "      <th>2000-01-31</th>\n",
       "      <th>2000-02-29</th>\n",
       "      <th>...</th>\n",
       "      <th>2021-12-31</th>\n",
       "      <th>2022-01-31</th>\n",
       "      <th>2022-02-28</th>\n",
       "      <th>2022-03-31</th>\n",
       "      <th>2022-04-30</th>\n",
       "      <th>2022-05-31</th>\n",
       "      <th>2022-06-30</th>\n",
       "      <th>2022-07-31</th>\n",
       "      <th>2022-08-31</th>\n",
       "      <th>2022-09-30</th>\n",
       "    </tr>\n",
       "  </thead>\n",
       "  <tbody>\n",
       "    <tr>\n",
       "      <th>0</th>\n",
       "      <td>6181</td>\n",
       "      <td>0</td>\n",
       "      <td>New York</td>\n",
       "      <td>city</td>\n",
       "      <td>NY</td>\n",
       "      <td>NY</td>\n",
       "      <td>New York-Newark-Jersey City, NY-NJ-PA</td>\n",
       "      <td>Queens County</td>\n",
       "      <td>253690.0</td>\n",
       "      <td>255517.0</td>\n",
       "      <td>...</td>\n",
       "      <td>741586.0</td>\n",
       "      <td>745686.0</td>\n",
       "      <td>750578.0</td>\n",
       "      <td>756734.0</td>\n",
       "      <td>762321.0</td>\n",
       "      <td>768797.0</td>\n",
       "      <td>773944.0</td>\n",
       "      <td>777692.0</td>\n",
       "      <td>779960.0</td>\n",
       "      <td>781622.0</td>\n",
       "    </tr>\n",
       "    <tr>\n",
       "      <th>1</th>\n",
       "      <td>12447</td>\n",
       "      <td>1</td>\n",
       "      <td>Los Angeles</td>\n",
       "      <td>city</td>\n",
       "      <td>CA</td>\n",
       "      <td>CA</td>\n",
       "      <td>Los Angeles-Long Beach-Anaheim, CA</td>\n",
       "      <td>Los Angeles County</td>\n",
       "      <td>234181.0</td>\n",
       "      <td>234401.0</td>\n",
       "      <td>...</td>\n",
       "      <td>924019.0</td>\n",
       "      <td>928991.0</td>\n",
       "      <td>937936.0</td>\n",
       "      <td>953874.0</td>\n",
       "      <td>973168.0</td>\n",
       "      <td>990391.0</td>\n",
       "      <td>992337.0</td>\n",
       "      <td>992630.0</td>\n",
       "      <td>978196.0</td>\n",
       "      <td>966595.0</td>\n",
       "    </tr>\n",
       "    <tr>\n",
       "      <th>2</th>\n",
       "      <td>39051</td>\n",
       "      <td>2</td>\n",
       "      <td>Houston</td>\n",
       "      <td>city</td>\n",
       "      <td>TX</td>\n",
       "      <td>TX</td>\n",
       "      <td>Houston-The Woodlands-Sugar Land, TX</td>\n",
       "      <td>Harris County</td>\n",
       "      <td>109068.0</td>\n",
       "      <td>109079.0</td>\n",
       "      <td>...</td>\n",
       "      <td>245783.0</td>\n",
       "      <td>248718.0</td>\n",
       "      <td>252080.0</td>\n",
       "      <td>256435.0</td>\n",
       "      <td>261101.0</td>\n",
       "      <td>265558.0</td>\n",
       "      <td>268901.0</td>\n",
       "      <td>271059.0</td>\n",
       "      <td>272400.0</td>\n",
       "      <td>272639.0</td>\n",
       "    </tr>\n",
       "    <tr>\n",
       "      <th>3</th>\n",
       "      <td>17426</td>\n",
       "      <td>3</td>\n",
       "      <td>Chicago</td>\n",
       "      <td>city</td>\n",
       "      <td>IL</td>\n",
       "      <td>IL</td>\n",
       "      <td>Chicago-Naperville-Elgin, IL-IN-WI</td>\n",
       "      <td>Cook County</td>\n",
       "      <td>166139.0</td>\n",
       "      <td>166536.0</td>\n",
       "      <td>...</td>\n",
       "      <td>302821.0</td>\n",
       "      <td>305104.0</td>\n",
       "      <td>306404.0</td>\n",
       "      <td>308303.0</td>\n",
       "      <td>309649.0</td>\n",
       "      <td>312487.0</td>\n",
       "      <td>314663.0</td>\n",
       "      <td>315910.0</td>\n",
       "      <td>315587.0</td>\n",
       "      <td>315429.0</td>\n",
       "    </tr>\n",
       "  </tbody>\n",
       "</table>\n",
       "<p>4 rows × 281 columns</p>\n",
       "</div>"
      ],
      "text/plain": [
       "   RegionID  SizeRank   RegionName RegionType StateName State  \\\n",
       "0      6181         0     New York       city        NY    NY   \n",
       "1     12447         1  Los Angeles       city        CA    CA   \n",
       "2     39051         2      Houston       city        TX    TX   \n",
       "3     17426         3      Chicago       city        IL    IL   \n",
       "\n",
       "                                   Metro          CountyName  2000-01-31  \\\n",
       "0  New York-Newark-Jersey City, NY-NJ-PA       Queens County    253690.0   \n",
       "1     Los Angeles-Long Beach-Anaheim, CA  Los Angeles County    234181.0   \n",
       "2   Houston-The Woodlands-Sugar Land, TX       Harris County    109068.0   \n",
       "3     Chicago-Naperville-Elgin, IL-IN-WI         Cook County    166139.0   \n",
       "\n",
       "   2000-02-29  ...  2021-12-31  2022-01-31  2022-02-28  2022-03-31  \\\n",
       "0    255517.0  ...    741586.0    745686.0    750578.0    756734.0   \n",
       "1    234401.0  ...    924019.0    928991.0    937936.0    953874.0   \n",
       "2    109079.0  ...    245783.0    248718.0    252080.0    256435.0   \n",
       "3    166536.0  ...    302821.0    305104.0    306404.0    308303.0   \n",
       "\n",
       "   2022-04-30  2022-05-31  2022-06-30  2022-07-31  2022-08-31  2022-09-30  \n",
       "0    762321.0    768797.0    773944.0    777692.0    779960.0    781622.0  \n",
       "1    973168.0    990391.0    992337.0    992630.0    978196.0    966595.0  \n",
       "2    261101.0    265558.0    268901.0    271059.0    272400.0    272639.0  \n",
       "3    309649.0    312487.0    314663.0    315910.0    315587.0    315429.0  \n",
       "\n",
       "[4 rows x 281 columns]"
      ]
     },
     "execution_count": 136,
     "metadata": {},
     "output_type": "execute_result"
    }
   ],
   "source": [
    "df"
   ]
  },
  {
   "cell_type": "code",
   "execution_count": 137,
   "id": "949b2cb4-1cde-484c-80ce-0a2b9cf6f550",
   "metadata": {},
   "outputs": [
    {
     "data": {
      "text/plain": [
       "Index(['RegionID', 'SizeRank', 'RegionName', 'RegionType', 'StateName',\n",
       "       'State', 'Metro', 'CountyName', '2000-01-31', '2000-02-29',\n",
       "       ...\n",
       "       '2021-12-31', '2022-01-31', '2022-02-28', '2022-03-31', '2022-04-30',\n",
       "       '2022-05-31', '2022-06-30', '2022-07-31', '2022-08-31', '2022-09-30'],\n",
       "      dtype='object', length=281)"
      ]
     },
     "execution_count": 137,
     "metadata": {},
     "output_type": "execute_result"
    }
   ],
   "source": [
    "df.columns"
   ]
  },
  {
   "cell_type": "code",
   "execution_count": 138,
   "id": "9dae7456-eeb4-414b-af34-38a94e5633a6",
   "metadata": {},
   "outputs": [],
   "source": [
    "id_vars = df.columns[:8]"
   ]
  },
  {
   "cell_type": "code",
   "execution_count": 139,
   "id": "07b49fdc-3ae8-4d22-8e52-70dc0eb9a82a",
   "metadata": {},
   "outputs": [],
   "source": [
    "melted = df.melt(id_vars=id_vars, var_name='datetime', value_name='HouseValue')"
   ]
  },
  {
   "cell_type": "code",
   "execution_count": 140,
   "id": "dffca4d7-06fc-413f-a2fd-fd2fd928abcb",
   "metadata": {},
   "outputs": [
    {
     "data": {
      "text/html": [
       "<div>\n",
       "<style scoped>\n",
       "    .dataframe tbody tr th:only-of-type {\n",
       "        vertical-align: middle;\n",
       "    }\n",
       "\n",
       "    .dataframe tbody tr th {\n",
       "        vertical-align: top;\n",
       "    }\n",
       "\n",
       "    .dataframe thead th {\n",
       "        text-align: right;\n",
       "    }\n",
       "</style>\n",
       "<table border=\"1\" class=\"dataframe\">\n",
       "  <thead>\n",
       "    <tr style=\"text-align: right;\">\n",
       "      <th></th>\n",
       "      <th>RegionID</th>\n",
       "      <th>SizeRank</th>\n",
       "      <th>RegionName</th>\n",
       "      <th>RegionType</th>\n",
       "      <th>StateName</th>\n",
       "      <th>State</th>\n",
       "      <th>Metro</th>\n",
       "      <th>CountyName</th>\n",
       "      <th>datetime</th>\n",
       "      <th>HouseValue</th>\n",
       "    </tr>\n",
       "  </thead>\n",
       "  <tbody>\n",
       "    <tr>\n",
       "      <th>0</th>\n",
       "      <td>6181</td>\n",
       "      <td>0</td>\n",
       "      <td>New York</td>\n",
       "      <td>city</td>\n",
       "      <td>NY</td>\n",
       "      <td>NY</td>\n",
       "      <td>New York-Newark-Jersey City, NY-NJ-PA</td>\n",
       "      <td>Queens County</td>\n",
       "      <td>2000-01-31</td>\n",
       "      <td>253690.0</td>\n",
       "    </tr>\n",
       "    <tr>\n",
       "      <th>1</th>\n",
       "      <td>12447</td>\n",
       "      <td>1</td>\n",
       "      <td>Los Angeles</td>\n",
       "      <td>city</td>\n",
       "      <td>CA</td>\n",
       "      <td>CA</td>\n",
       "      <td>Los Angeles-Long Beach-Anaheim, CA</td>\n",
       "      <td>Los Angeles County</td>\n",
       "      <td>2000-01-31</td>\n",
       "      <td>234181.0</td>\n",
       "    </tr>\n",
       "    <tr>\n",
       "      <th>2</th>\n",
       "      <td>39051</td>\n",
       "      <td>2</td>\n",
       "      <td>Houston</td>\n",
       "      <td>city</td>\n",
       "      <td>TX</td>\n",
       "      <td>TX</td>\n",
       "      <td>Houston-The Woodlands-Sugar Land, TX</td>\n",
       "      <td>Harris County</td>\n",
       "      <td>2000-01-31</td>\n",
       "      <td>109068.0</td>\n",
       "    </tr>\n",
       "    <tr>\n",
       "      <th>3</th>\n",
       "      <td>17426</td>\n",
       "      <td>3</td>\n",
       "      <td>Chicago</td>\n",
       "      <td>city</td>\n",
       "      <td>IL</td>\n",
       "      <td>IL</td>\n",
       "      <td>Chicago-Naperville-Elgin, IL-IN-WI</td>\n",
       "      <td>Cook County</td>\n",
       "      <td>2000-01-31</td>\n",
       "      <td>166139.0</td>\n",
       "    </tr>\n",
       "    <tr>\n",
       "      <th>4</th>\n",
       "      <td>6181</td>\n",
       "      <td>0</td>\n",
       "      <td>New York</td>\n",
       "      <td>city</td>\n",
       "      <td>NY</td>\n",
       "      <td>NY</td>\n",
       "      <td>New York-Newark-Jersey City, NY-NJ-PA</td>\n",
       "      <td>Queens County</td>\n",
       "      <td>2000-02-29</td>\n",
       "      <td>255517.0</td>\n",
       "    </tr>\n",
       "    <tr>\n",
       "      <th>...</th>\n",
       "      <td>...</td>\n",
       "      <td>...</td>\n",
       "      <td>...</td>\n",
       "      <td>...</td>\n",
       "      <td>...</td>\n",
       "      <td>...</td>\n",
       "      <td>...</td>\n",
       "      <td>...</td>\n",
       "      <td>...</td>\n",
       "      <td>...</td>\n",
       "    </tr>\n",
       "    <tr>\n",
       "      <th>1087</th>\n",
       "      <td>17426</td>\n",
       "      <td>3</td>\n",
       "      <td>Chicago</td>\n",
       "      <td>city</td>\n",
       "      <td>IL</td>\n",
       "      <td>IL</td>\n",
       "      <td>Chicago-Naperville-Elgin, IL-IN-WI</td>\n",
       "      <td>Cook County</td>\n",
       "      <td>2022-08-31</td>\n",
       "      <td>315587.0</td>\n",
       "    </tr>\n",
       "    <tr>\n",
       "      <th>1088</th>\n",
       "      <td>6181</td>\n",
       "      <td>0</td>\n",
       "      <td>New York</td>\n",
       "      <td>city</td>\n",
       "      <td>NY</td>\n",
       "      <td>NY</td>\n",
       "      <td>New York-Newark-Jersey City, NY-NJ-PA</td>\n",
       "      <td>Queens County</td>\n",
       "      <td>2022-09-30</td>\n",
       "      <td>781622.0</td>\n",
       "    </tr>\n",
       "    <tr>\n",
       "      <th>1089</th>\n",
       "      <td>12447</td>\n",
       "      <td>1</td>\n",
       "      <td>Los Angeles</td>\n",
       "      <td>city</td>\n",
       "      <td>CA</td>\n",
       "      <td>CA</td>\n",
       "      <td>Los Angeles-Long Beach-Anaheim, CA</td>\n",
       "      <td>Los Angeles County</td>\n",
       "      <td>2022-09-30</td>\n",
       "      <td>966595.0</td>\n",
       "    </tr>\n",
       "    <tr>\n",
       "      <th>1090</th>\n",
       "      <td>39051</td>\n",
       "      <td>2</td>\n",
       "      <td>Houston</td>\n",
       "      <td>city</td>\n",
       "      <td>TX</td>\n",
       "      <td>TX</td>\n",
       "      <td>Houston-The Woodlands-Sugar Land, TX</td>\n",
       "      <td>Harris County</td>\n",
       "      <td>2022-09-30</td>\n",
       "      <td>272639.0</td>\n",
       "    </tr>\n",
       "    <tr>\n",
       "      <th>1091</th>\n",
       "      <td>17426</td>\n",
       "      <td>3</td>\n",
       "      <td>Chicago</td>\n",
       "      <td>city</td>\n",
       "      <td>IL</td>\n",
       "      <td>IL</td>\n",
       "      <td>Chicago-Naperville-Elgin, IL-IN-WI</td>\n",
       "      <td>Cook County</td>\n",
       "      <td>2022-09-30</td>\n",
       "      <td>315429.0</td>\n",
       "    </tr>\n",
       "  </tbody>\n",
       "</table>\n",
       "<p>1092 rows × 10 columns</p>\n",
       "</div>"
      ],
      "text/plain": [
       "      RegionID  SizeRank   RegionName RegionType StateName State  \\\n",
       "0         6181         0     New York       city        NY    NY   \n",
       "1        12447         1  Los Angeles       city        CA    CA   \n",
       "2        39051         2      Houston       city        TX    TX   \n",
       "3        17426         3      Chicago       city        IL    IL   \n",
       "4         6181         0     New York       city        NY    NY   \n",
       "...        ...       ...          ...        ...       ...   ...   \n",
       "1087     17426         3      Chicago       city        IL    IL   \n",
       "1088      6181         0     New York       city        NY    NY   \n",
       "1089     12447         1  Los Angeles       city        CA    CA   \n",
       "1090     39051         2      Houston       city        TX    TX   \n",
       "1091     17426         3      Chicago       city        IL    IL   \n",
       "\n",
       "                                      Metro          CountyName    datetime  \\\n",
       "0     New York-Newark-Jersey City, NY-NJ-PA       Queens County  2000-01-31   \n",
       "1        Los Angeles-Long Beach-Anaheim, CA  Los Angeles County  2000-01-31   \n",
       "2      Houston-The Woodlands-Sugar Land, TX       Harris County  2000-01-31   \n",
       "3        Chicago-Naperville-Elgin, IL-IN-WI         Cook County  2000-01-31   \n",
       "4     New York-Newark-Jersey City, NY-NJ-PA       Queens County  2000-02-29   \n",
       "...                                     ...                 ...         ...   \n",
       "1087     Chicago-Naperville-Elgin, IL-IN-WI         Cook County  2022-08-31   \n",
       "1088  New York-Newark-Jersey City, NY-NJ-PA       Queens County  2022-09-30   \n",
       "1089     Los Angeles-Long Beach-Anaheim, CA  Los Angeles County  2022-09-30   \n",
       "1090   Houston-The Woodlands-Sugar Land, TX       Harris County  2022-09-30   \n",
       "1091     Chicago-Naperville-Elgin, IL-IN-WI         Cook County  2022-09-30   \n",
       "\n",
       "      HouseValue  \n",
       "0       253690.0  \n",
       "1       234181.0  \n",
       "2       109068.0  \n",
       "3       166139.0  \n",
       "4       255517.0  \n",
       "...          ...  \n",
       "1087    315587.0  \n",
       "1088    781622.0  \n",
       "1089    966595.0  \n",
       "1090    272639.0  \n",
       "1091    315429.0  \n",
       "\n",
       "[1092 rows x 10 columns]"
      ]
     },
     "execution_count": 140,
     "metadata": {},
     "output_type": "execute_result"
    }
   ],
   "source": [
    "melted"
   ]
  },
  {
   "cell_type": "code",
   "execution_count": 141,
   "id": "9585bee8-a1e1-4144-9990-8d3816243dd7",
   "metadata": {},
   "outputs": [],
   "source": [
    "melted.datetime = pd.to_datetime(melted.datetime)\n",
    "melted = melted.set_index('datetime')"
   ]
  },
  {
   "cell_type": "code",
   "execution_count": 142,
   "id": "1c7af67b-101d-46bd-b93c-b4b6565ef991",
   "metadata": {},
   "outputs": [
    {
     "data": {
      "text/plain": [
       "DatetimeIndex(['2000-01-31', '2000-01-31', '2000-01-31', '2000-01-31',\n",
       "               '2000-02-29', '2000-02-29', '2000-02-29', '2000-02-29',\n",
       "               '2000-03-31', '2000-03-31',\n",
       "               ...\n",
       "               '2022-07-31', '2022-07-31', '2022-08-31', '2022-08-31',\n",
       "               '2022-08-31', '2022-08-31', '2022-09-30', '2022-09-30',\n",
       "               '2022-09-30', '2022-09-30'],\n",
       "              dtype='datetime64[ns]', name='datetime', length=1092, freq=None)"
      ]
     },
     "execution_count": 142,
     "metadata": {},
     "output_type": "execute_result"
    }
   ],
   "source": [
    "melted.index"
   ]
  },
  {
   "cell_type": "code",
   "execution_count": 143,
   "id": "f8a78e9d-2b03-4eaa-b86b-78555082b691",
   "metadata": {},
   "outputs": [],
   "source": [
    "ts = melted.groupby('RegionName').resample('M')['HouseValue'].mean()\n",
    "ts = pd.DataFrame(ts)"
   ]
  },
  {
   "cell_type": "code",
   "execution_count": 144,
   "id": "a689aac3-d9cb-4e7e-ab6b-6b899afbaac6",
   "metadata": {},
   "outputs": [
    {
     "name": "stdout",
     "output_type": "stream",
     "text": [
      "<class 'pandas.core.frame.DataFrame'>\n",
      "MultiIndex: 1092 entries, ('Chicago', Timestamp('2000-01-31 00:00:00', freq='M')) to ('New York', Timestamp('2022-09-30 00:00:00', freq='M'))\n",
      "Data columns (total 1 columns):\n",
      " #   Column      Non-Null Count  Dtype  \n",
      "---  ------      --------------  -----  \n",
      " 0   HouseValue  1087 non-null   float64\n",
      "dtypes: float64(1)\n",
      "memory usage: 22.3+ KB\n"
     ]
    }
   ],
   "source": [
    "ts.info()"
   ]
  },
  {
   "cell_type": "code",
   "execution_count": 145,
   "id": "763abe1b-7aa8-44fb-bd6e-ce74c0ef53d2",
   "metadata": {},
   "outputs": [
    {
     "data": {
      "text/plain": [
       "Index(['Chicago', 'Houston', 'Los Angeles', 'New York'], dtype='object', name='RegionName')"
      ]
     },
     "execution_count": 145,
     "metadata": {},
     "output_type": "execute_result"
    }
   ],
   "source": [
    "ts.unstack().T.columns"
   ]
  },
  {
   "cell_type": "code",
   "execution_count": 146,
   "id": "a42e4254-98da-409c-9c48-6e251196f29c",
   "metadata": {},
   "outputs": [
    {
     "data": {
      "text/html": [
       "<div>\n",
       "<style scoped>\n",
       "    .dataframe tbody tr th:only-of-type {\n",
       "        vertical-align: middle;\n",
       "    }\n",
       "\n",
       "    .dataframe tbody tr th {\n",
       "        vertical-align: top;\n",
       "    }\n",
       "\n",
       "    .dataframe thead th {\n",
       "        text-align: right;\n",
       "    }\n",
       "</style>\n",
       "<table border=\"1\" class=\"dataframe\">\n",
       "  <thead>\n",
       "    <tr style=\"text-align: right;\">\n",
       "      <th></th>\n",
       "      <th></th>\n",
       "      <th>HouseValue</th>\n",
       "    </tr>\n",
       "    <tr>\n",
       "      <th>RegionName</th>\n",
       "      <th>datetime</th>\n",
       "      <th></th>\n",
       "    </tr>\n",
       "  </thead>\n",
       "  <tbody>\n",
       "    <tr>\n",
       "      <th rowspan=\"5\" valign=\"top\">Chicago</th>\n",
       "      <th>2000-01-31</th>\n",
       "      <td>166139.0</td>\n",
       "    </tr>\n",
       "    <tr>\n",
       "      <th>2000-02-29</th>\n",
       "      <td>166536.0</td>\n",
       "    </tr>\n",
       "    <tr>\n",
       "      <th>2000-03-31</th>\n",
       "      <td>167368.0</td>\n",
       "    </tr>\n",
       "    <tr>\n",
       "      <th>2000-04-30</th>\n",
       "      <td>168826.0</td>\n",
       "    </tr>\n",
       "    <tr>\n",
       "      <th>2000-05-31</th>\n",
       "      <td>170499.0</td>\n",
       "    </tr>\n",
       "  </tbody>\n",
       "</table>\n",
       "</div>"
      ],
      "text/plain": [
       "                       HouseValue\n",
       "RegionName datetime              \n",
       "Chicago    2000-01-31    166139.0\n",
       "           2000-02-29    166536.0\n",
       "           2000-03-31    167368.0\n",
       "           2000-04-30    168826.0\n",
       "           2000-05-31    170499.0"
      ]
     },
     "execution_count": 146,
     "metadata": {},
     "output_type": "execute_result"
    }
   ],
   "source": [
    "ts.head()"
   ]
  },
  {
   "cell_type": "code",
   "execution_count": 147,
   "id": "1c34c9e0-9851-4be3-8953-4acd2eb81770",
   "metadata": {},
   "outputs": [],
   "source": [
    "unstacked = ts.unstack(0)[['HouseValue']]"
   ]
  },
  {
   "cell_type": "code",
   "execution_count": 151,
   "id": "8efd244f-a8a4-445a-bb3b-385f04bf3b2b",
   "metadata": {},
   "outputs": [
    {
     "data": {
      "text/plain": [
       "<Axes: xlabel='Date', ylabel='Home Value'>"
      ]
     },
     "execution_count": 151,
     "metadata": {},
     "output_type": "execute_result"
    },
    {
     "data": {
      "image/png": "[encoded data removed]",
      "text/plain": [
       "<Figure size 1200x500 with 1 Axes>"
      ]
     },
     "metadata": {},
     "output_type": "display_data"
    }
   ],
   "source": [
    "fig, ax = plt.subplots(figsize=(12,5))\n",
    "\n",
    "fmt_thous = mticks.FuncFormatter(thousands)\n",
    "ax.set(ylabel='Home Value')\n",
    "\n",
    "ax.yaxis.set_major_formatter(fmt_thous)\n",
    "unstacked.plot(ax=ax, xlabel='Date')"
   ]
  },
  {
   "cell_type": "markdown",
   "id": "dc7c4632-8c3f-4208-8a9d-214347579da1",
   "metadata": {},
   "source": [
    "## Questions"
   ]
  },
  {
   "cell_type": "markdown",
   "id": "552c4abe-9616-48eb-a765-2d6650ec8e6b",
   "metadata": {},
   "source": [
    "### 1) Which City had the highest Typical Home Value at the end of 2008? Which had the least?\n",
    "Answer: New York"
   ]
  },
  {
   "cell_type": "code",
   "execution_count": null,
   "id": "844e49b6-7985-491f-9761-9c2624505c9d",
   "metadata": {},
   "outputs": [],
   "source": []
  },
  {
   "cell_type": "code",
   "execution_count": null,
   "id": "1822bd68-291c-412b-b7d8-33d5747deff0",
   "metadata": {},
   "outputs": [],
   "source": []
  },
  {
   "cell_type": "markdown",
   "id": "a7cf4014-8cad-4fae-99bc-212bc8fa930a",
   "metadata": {},
   "source": [
    "### 2) How much did the home values change from November 2008 to December 2008 (in dollars)?"
   ]
  },
  {
   "cell_type": "code",
   "execution_count": 152,
   "id": "e460ac88-cea5-4dab-95c4-bc3eabc4c28b",
   "metadata": {},
   "outputs": [
    {
     "data": {
      "text/html": [
       "<div>\n",
       "<style scoped>\n",
       "    .dataframe tbody tr th:only-of-type {\n",
       "        vertical-align: middle;\n",
       "    }\n",
       "\n",
       "    .dataframe tbody tr th {\n",
       "        vertical-align: top;\n",
       "    }\n",
       "\n",
       "    .dataframe thead tr th {\n",
       "        text-align: left;\n",
       "    }\n",
       "\n",
       "    .dataframe thead tr:last-of-type th {\n",
       "        text-align: right;\n",
       "    }\n",
       "</style>\n",
       "<table border=\"1\" class=\"dataframe\">\n",
       "  <thead>\n",
       "    <tr>\n",
       "      <th></th>\n",
       "      <th colspan=\"4\" halign=\"left\">HouseValue</th>\n",
       "    </tr>\n",
       "    <tr>\n",
       "      <th>RegionName</th>\n",
       "      <th>Chicago</th>\n",
       "      <th>Houston</th>\n",
       "      <th>Los Angeles</th>\n",
       "      <th>New York</th>\n",
       "    </tr>\n",
       "    <tr>\n",
       "      <th>datetime</th>\n",
       "      <th></th>\n",
       "      <th></th>\n",
       "      <th></th>\n",
       "      <th></th>\n",
       "    </tr>\n",
       "  </thead>\n",
       "  <tbody>\n",
       "    <tr>\n",
       "      <th>2000-01-31</th>\n",
       "      <td>166139.0</td>\n",
       "      <td>109068.0</td>\n",
       "      <td>234181.0</td>\n",
       "      <td>253690.0</td>\n",
       "    </tr>\n",
       "    <tr>\n",
       "      <th>2000-02-29</th>\n",
       "      <td>166536.0</td>\n",
       "      <td>109079.0</td>\n",
       "      <td>234401.0</td>\n",
       "      <td>255517.0</td>\n",
       "    </tr>\n",
       "    <tr>\n",
       "      <th>2000-03-31</th>\n",
       "      <td>167368.0</td>\n",
       "      <td>108878.0</td>\n",
       "      <td>235513.0</td>\n",
       "      <td>257207.0</td>\n",
       "    </tr>\n",
       "    <tr>\n",
       "      <th>2000-04-30</th>\n",
       "      <td>168826.0</td>\n",
       "      <td>108881.0</td>\n",
       "      <td>237589.0</td>\n",
       "      <td>260310.0</td>\n",
       "    </tr>\n",
       "    <tr>\n",
       "      <th>2000-05-31</th>\n",
       "      <td>170499.0</td>\n",
       "      <td>108834.0</td>\n",
       "      <td>240113.0</td>\n",
       "      <td>263204.0</td>\n",
       "    </tr>\n",
       "  </tbody>\n",
       "</table>\n",
       "</div>"
      ],
      "text/plain": [
       "           HouseValue                                \n",
       "RegionName    Chicago   Houston Los Angeles  New York\n",
       "datetime                                             \n",
       "2000-01-31   166139.0  109068.0    234181.0  253690.0\n",
       "2000-02-29   166536.0  109079.0    234401.0  255517.0\n",
       "2000-03-31   167368.0  108878.0    235513.0  257207.0\n",
       "2000-04-30   168826.0  108881.0    237589.0  260310.0\n",
       "2000-05-31   170499.0  108834.0    240113.0  263204.0"
      ]
     },
     "execution_count": 152,
     "metadata": {},
     "output_type": "execute_result"
    }
   ],
   "source": [
    "unstacked.head()"
   ]
  },
  {
   "cell_type": "code",
   "execution_count": 154,
   "id": "408ebbe3-e0bc-4392-814a-1aa4b96f0fc4",
   "metadata": {},
   "outputs": [
    {
     "data": {
      "text/html": [
       "<div>\n",
       "<style scoped>\n",
       "    .dataframe tbody tr th:only-of-type {\n",
       "        vertical-align: middle;\n",
       "    }\n",
       "\n",
       "    .dataframe tbody tr th {\n",
       "        vertical-align: top;\n",
       "    }\n",
       "\n",
       "    .dataframe thead tr th {\n",
       "        text-align: left;\n",
       "    }\n",
       "\n",
       "    .dataframe thead tr:last-of-type th {\n",
       "        text-align: right;\n",
       "    }\n",
       "</style>\n",
       "<table border=\"1\" class=\"dataframe\">\n",
       "  <thead>\n",
       "    <tr>\n",
       "      <th></th>\n",
       "      <th colspan=\"4\" halign=\"left\">HouseValue</th>\n",
       "    </tr>\n",
       "    <tr>\n",
       "      <th>RegionName</th>\n",
       "      <th>Chicago</th>\n",
       "      <th>Houston</th>\n",
       "      <th>Los Angeles</th>\n",
       "      <th>New York</th>\n",
       "    </tr>\n",
       "    <tr>\n",
       "      <th>datetime</th>\n",
       "      <th></th>\n",
       "      <th></th>\n",
       "      <th></th>\n",
       "      <th></th>\n",
       "    </tr>\n",
       "  </thead>\n",
       "  <tbody>\n",
       "    <tr>\n",
       "      <th>2008-11-30</th>\n",
       "      <td>271059.0</td>\n",
       "      <td>132247.0</td>\n",
       "      <td>481905.0</td>\n",
       "      <td>514767.0</td>\n",
       "    </tr>\n",
       "  </tbody>\n",
       "</table>\n",
       "</div>"
      ],
      "text/plain": [
       "           HouseValue                                \n",
       "RegionName    Chicago   Houston Los Angeles  New York\n",
       "datetime                                             \n",
       "2008-11-30   271059.0  132247.0    481905.0  514767.0"
      ]
     },
     "execution_count": 154,
     "metadata": {},
     "output_type": "execute_result"
    }
   ],
   "source": [
    "unstacked.loc['2008-11']\n",
    "# unstacked.loc['2008-12']"
   ]
  },
  {
   "cell_type": "code",
   "execution_count": 156,
   "id": "a62c40af-298c-4b85-b6a7-37105b69d86f",
   "metadata": {},
   "outputs": [
    {
     "data": {
      "text/html": [
       "<div>\n",
       "<style scoped>\n",
       "    .dataframe tbody tr th:only-of-type {\n",
       "        vertical-align: middle;\n",
       "    }\n",
       "\n",
       "    .dataframe tbody tr th {\n",
       "        vertical-align: top;\n",
       "    }\n",
       "\n",
       "    .dataframe thead tr th {\n",
       "        text-align: left;\n",
       "    }\n",
       "\n",
       "    .dataframe thead tr:last-of-type th {\n",
       "        text-align: right;\n",
       "    }\n",
       "</style>\n",
       "<table border=\"1\" class=\"dataframe\">\n",
       "  <thead>\n",
       "    <tr>\n",
       "      <th></th>\n",
       "      <th colspan=\"4\" halign=\"left\">HouseValue</th>\n",
       "    </tr>\n",
       "    <tr>\n",
       "      <th>RegionName</th>\n",
       "      <th>Chicago</th>\n",
       "      <th>Houston</th>\n",
       "      <th>Los Angeles</th>\n",
       "      <th>New York</th>\n",
       "    </tr>\n",
       "    <tr>\n",
       "      <th>datetime</th>\n",
       "      <th></th>\n",
       "      <th></th>\n",
       "      <th></th>\n",
       "      <th></th>\n",
       "    </tr>\n",
       "  </thead>\n",
       "  <tbody>\n",
       "    <tr>\n",
       "      <th>2008-11-30</th>\n",
       "      <td>NaN</td>\n",
       "      <td>NaN</td>\n",
       "      <td>NaN</td>\n",
       "      <td>NaN</td>\n",
       "    </tr>\n",
       "    <tr>\n",
       "      <th>2008-12-31</th>\n",
       "      <td>-5753.0</td>\n",
       "      <td>-964.0</td>\n",
       "      <td>-12611.0</td>\n",
       "      <td>-4458.0</td>\n",
       "    </tr>\n",
       "  </tbody>\n",
       "</table>\n",
       "</div>"
      ],
      "text/plain": [
       "           HouseValue                             \n",
       "RegionName    Chicago Houston Los Angeles New York\n",
       "datetime                                          \n",
       "2008-11-30        NaN     NaN         NaN      NaN\n",
       "2008-12-31    -5753.0  -964.0    -12611.0  -4458.0"
      ]
     },
     "execution_count": 156,
     "metadata": {},
     "output_type": "execute_result"
    }
   ],
   "source": [
    "unstacked.loc['2008-11':'2008-12'].diff()"
   ]
  },
  {
   "cell_type": "markdown",
   "id": "ce141710-eab9-4b44-8028-1fb339992611",
   "metadata": {},
   "source": [
    "Answer:\n",
    "\n",
    "* Chicago: \\$-5753\n",
    "* Houston: \\$-964\n",
    "* LosAngeles: \\$-12611\n",
    "* New York: \\$-4458"
   ]
  }
 ],
 "metadata": {
  "kernelspec": {
   "display_name": "Python (dojo-env)",
   "language": "python",
   "name": "dojo-env"
  },
  "language_info": {
   "codemirror_mode": {
    "name": "ipython",
    "version": 3
   },
   "file_extension": ".py",
   "mimetype": "text/x-python",
   "name": "python",
   "nbconvert_exporter": "python",
   "pygments_lexer": "ipython3",
   "version": "3.10.10"
  },
  "widgets": {
   "application/vnd.jupyter.widget-state+json": {
    "state": {},
    "version_major": 2,
    "version_minor": 0
   }
  }
 },
 "nbformat": 4,
 "nbformat_minor": 5
}
